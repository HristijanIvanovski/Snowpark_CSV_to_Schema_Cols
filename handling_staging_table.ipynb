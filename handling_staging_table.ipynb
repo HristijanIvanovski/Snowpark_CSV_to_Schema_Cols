{
 "cells": [
  {
   "cell_type": "code",
   "execution_count": null,
   "metadata": {},
   "outputs": [],
   "source": [
    "from snowpark import *\n",
    "from snowpark.functions import *\n",
    "\n",
    "# Create a Snowpark session\n",
    "session = Session()\n",
    "\n",
    "# Load CSV file into DataFrame\n",
    "df = session.read.format('csv').load('my_file.csv')\n",
    "\n",
    "# Get column names of CSV file\n",
    "csv_columns = df.columns\n",
    "\n",
    "# Get column names of staging table\n",
    "staging_table_columns = session.table('my_staging_table').columns\n",
    "\n",
    "# Find new columns in CSV file\n",
    "new_columns = list(set(csv_columns) - set(staging_table_columns))\n",
    "\n",
    "# Add new columns to staging table\n",
    "for col_name in new_columns:\n",
    "    session.sql(f'ALTER TABLE my_staging_table ADD COLUMN {col_name} VARIANT')\n",
    "\n",
    "# Write DataFrame to staging table\n",
    "df.write.mode('append').saveAsTable('my_staging_table')\n"
   ]
  }
 ],
 "metadata": {
  "language_info": {
   "name": "python"
  },
  "orig_nbformat": 4
 },
 "nbformat": 4,
 "nbformat_minor": 2
}
