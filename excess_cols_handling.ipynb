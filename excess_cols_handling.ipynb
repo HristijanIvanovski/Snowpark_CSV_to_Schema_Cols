{
 "cells": [
  {
   "cell_type": "code",
   "execution_count": null,
   "metadata": {},
   "outputs": [],
   "source": [
    "from snowpark import *\n",
    "from snowpark.functions import *\n",
    "\n",
    "# Create a Snowpark session\n",
    "session = Session()\n",
    "\n",
    "# Load CSV file into DataFrame\n",
    "df = session.read.format('csv').load('my_file.csv')\n",
    "\n",
    "# Get column names of CSV file\n",
    "csv_columns = df.columns\n",
    "\n",
    "# Get column names of target table\n",
    "target_table_columns = session.table('my_target_table').columns\n",
    "\n",
    "# Find common columns\n",
    "common_columns = list(set(csv_columns) & set(target_table_columns))\n",
    "\n",
    "# Select only common columns from DataFrame\n",
    "df = df.select([col(c) for c in common_columns])\n",
    "\n",
    "# Write DataFrame to target table\n",
    "df.write.mode('append').saveAsTable('my_target_table')\n"
   ]
  }
 ],
 "metadata": {
  "language_info": {
   "name": "python"
  },
  "orig_nbformat": 4
 },
 "nbformat": 4,
 "nbformat_minor": 2
}
